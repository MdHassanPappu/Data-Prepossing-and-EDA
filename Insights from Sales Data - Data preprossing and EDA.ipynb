{
 "cells": [
  {
   "cell_type": "markdown",
   "metadata": {},
   "source": [
    "## Data Cleaning and Analysis Notebook 📊 🧹- Md Jahid Hassan\n",
    "\n",
    "### Overview of the Dataset 📝\n",
    "\n",
    "Welcome to my data cleaning and analysis notebook! 🌟 Let's take a quick look on the Dataset \n",
    "\n",
    "- **Dataset**: Selling information for 4 courses\n",
    "- **Columns**\n",
    "    - **Name** \n",
    "    - **Email**\n",
    "    - **Course**\n",
    "    - **Registration Date**\n",
    "    - **Paid Amount**\n",
    "### Tools Used 🛠️\n",
    "\n",
    "In this task , I employed various tools to explore and visualize the data effectively. The primary tools utilized include:\n",
    "\n",
    "- **Python**\n",
    "- **NumPy**\n",
    "- **Pandas**\n",
    "- **Matplotlib**\n",
    "- **Seaborn**\n",
    "  \n",
    "### Purpose and Quest ⚔️\n",
    "\n",
    "My purpose was to transform this  dataset into meaningful insights after driving some preprossing step.Here's the treasure map I followed: \n",
    "\n",
    "1. **Data Extraction**:\n",
    "    - I extracted meaningful  information from a garbage  CSV file.\n",
    "</br>\n",
    "</br>    \n",
    "2. **Data Cleaning**:\n",
    "    - **Missing Values** : I filled some nan values with cumstom values and rest of nan values was removed. \n",
    "    - **Outliers** : I spotted the odd ones out and gently nudged them away.\n",
    "    - **Duplicates** : No room for twins! I removed duplicate records.\n",
    "    - **Date Strings** : transformed  unstuctured dates into usable dates.\n",
    "    - **Strings and Emails** : I split unnecessary  strings and email columns, making them easier to read.\n",
    "</br>\n",
    "</br>\n",
    "3. **I used Exploratory Data Analysis (EDA) to answer these questions by gaining insights from the data.**:\n",
    "   \n",
    "    - How much revenue has been generated from courses selling .💰\n",
    "    - How many students have enrolled in each course? 🎓\n",
    "    - What is the total earnings from each course?💎\n",
    "    - On which day of the week has the highest selling ?\n",
    "    - On which day of the week is a specific course sold the most?\n",
    "    - Whether how many students have fully or due in specific courses ?\n",
    "    - Which day of the week has the highest enrollment for fully paid courses ?\n",
    "    - Which day of the week has the highest due sells ⏳\n",
    "\n",
    "-------------------------------------------------------------------------------------------------------\n",
    "\n"
   ]
  },
  {
   "cell_type": "code",
   "execution_count": null,
   "metadata": {},
   "outputs": [],
   "source": [
    "import numpy as np\n",
    "import pandas as pd\n",
    "import seaborn as sns\n",
    "import matplotlib.pyplot as plt"
   ]
  },
  {
   "cell_type": "markdown",
   "metadata": {},
   "source": [
    "## Data Set Primary Glance"
   ]
  },
  {
   "cell_type": "code",
   "execution_count": 220,
   "metadata": {},
   "outputs": [
    {
     "data": {
      "text/html": [
       "<div>\n",
       "<style scoped>\n",
       "    .dataframe tbody tr th:only-of-type {\n",
       "        vertical-align: middle;\n",
       "    }\n",
       "\n",
       "    .dataframe tbody tr th {\n",
       "        vertical-align: top;\n",
       "    }\n",
       "\n",
       "    .dataframe thead th {\n",
       "        text-align: right;\n",
       "    }\n",
       "</style>\n",
       "<table border=\"1\" class=\"dataframe\">\n",
       "  <thead>\n",
       "    <tr style=\"text-align: right;\">\n",
       "      <th></th>\n",
       "      <th>Unnamed: 0</th>\n",
       "      <th>Unnamed: 1</th>\n",
       "      <th>One Skill to Rule Them All</th>\n",
       "      <th>Unnamed: 3</th>\n",
       "      <th>Unnamed: 4</th>\n",
       "      <th>Unnamed: 5</th>\n",
       "      <th>Unnamed: 6</th>\n",
       "      <th>Unnamed: 7</th>\n",
       "      <th>Unnamed: 8</th>\n",
       "      <th>Unnamed: 9</th>\n",
       "      <th>Unnamed: 10</th>\n",
       "      <th>Unnamed: 11</th>\n",
       "      <th>Unnamed: 12</th>\n",
       "      <th>Unnamed: 13</th>\n",
       "      <th>Unnamed: 14</th>\n",
       "      <th>Unnamed: 15</th>\n",
       "      <th>Unnamed: 16</th>\n",
       "      <th>Unnamed: 17</th>\n",
       "      <th>Unnamed: 18</th>\n",
       "    </tr>\n",
       "  </thead>\n",
       "  <tbody>\n",
       "    <tr>\n",
       "      <th>0</th>\n",
       "      <td>NaN</td>\n",
       "      <td>NaN</td>\n",
       "      <td>NaN</td>\n",
       "      <td>NaN</td>\n",
       "      <td>NaN</td>\n",
       "      <td>NaN</td>\n",
       "      <td>NaN</td>\n",
       "      <td>NaN</td>\n",
       "      <td>NaN</td>\n",
       "      <td>NaN</td>\n",
       "      <td>NaN</td>\n",
       "      <td>NaN</td>\n",
       "      <td>NaN</td>\n",
       "      <td>NaN</td>\n",
       "      <td>NaN</td>\n",
       "      <td>NaN</td>\n",
       "      <td>NaN</td>\n",
       "      <td>NaN</td>\n",
       "      <td>NaN</td>\n",
       "    </tr>\n",
       "    <tr>\n",
       "      <th>1</th>\n",
       "      <td></td>\n",
       "      <td>NaN</td>\n",
       "      <td>NaN</td>\n",
       "      <td>NaN</td>\n",
       "      <td>NaN</td>\n",
       "      <td>NaN</td>\n",
       "      <td>NaN</td>\n",
       "      <td>NaN</td>\n",
       "      <td>NaN</td>\n",
       "      <td>NaN</td>\n",
       "      <td>NaN</td>\n",
       "      <td>NaN</td>\n",
       "      <td>NaN</td>\n",
       "      <td>NaN</td>\n",
       "      <td>NaN</td>\n",
       "      <td>NaN</td>\n",
       "      <td>NaN</td>\n",
       "      <td>NaN</td>\n",
       "      <td>1.0</td>\n",
       "    </tr>\n",
       "    <tr>\n",
       "      <th>2</th>\n",
       "      <td>NaN</td>\n",
       "      <td>NaN</td>\n",
       "      <td>Name</td>\n",
       "      <td>Email</td>\n",
       "      <td>Course</td>\n",
       "      <td>Registration Date</td>\n",
       "      <td>Fee Paid</td>\n",
       "      <td>NaN</td>\n",
       "      <td>NaN</td>\n",
       "      <td>NaN</td>\n",
       "      <td>NaN</td>\n",
       "      <td>NaN</td>\n",
       "      <td>NaN</td>\n",
       "      <td>NaN</td>\n",
       "      <td>NaN</td>\n",
       "      <td>NaN</td>\n",
       "      <td>NaN</td>\n",
       "      <td>NaN</td>\n",
       "      <td>NaN</td>\n",
       "    </tr>\n",
       "  </tbody>\n",
       "</table>\n",
       "</div>"
      ],
      "text/plain": [
       "  Unnamed: 0  Unnamed: 1 One Skill to Rule Them All Unnamed: 3 Unnamed: 4  \\\n",
       "0        NaN         NaN                        NaN        NaN        NaN   \n",
       "1                    NaN                        NaN        NaN        NaN   \n",
       "2        NaN         NaN                       Name      Email     Course   \n",
       "\n",
       "          Unnamed: 5 Unnamed: 6  Unnamed: 7  Unnamed: 8  Unnamed: 9  \\\n",
       "0                NaN        NaN         NaN         NaN         NaN   \n",
       "1                NaN        NaN         NaN         NaN         NaN   \n",
       "2  Registration Date   Fee Paid         NaN         NaN         NaN   \n",
       "\n",
       "   Unnamed: 10  Unnamed: 11  Unnamed: 12  Unnamed: 13  Unnamed: 14  \\\n",
       "0          NaN          NaN          NaN          NaN          NaN   \n",
       "1          NaN          NaN          NaN          NaN          NaN   \n",
       "2          NaN          NaN          NaN          NaN          NaN   \n",
       "\n",
       "   Unnamed: 15  Unnamed: 16  Unnamed: 17  Unnamed: 18  \n",
       "0          NaN          NaN          NaN          NaN  \n",
       "1          NaN          NaN          NaN          1.0  \n",
       "2          NaN          NaN          NaN          NaN  "
      ]
     },
     "execution_count": 220,
     "metadata": {},
     "output_type": "execute_result"
    }
   ],
   "source": [
    "df=pd.read_csv(\"course_selling_info.csv\")\n",
    "df.head(3)"
   ]
  },
  {
   "cell_type": "markdown",
   "metadata": {},
   "source": [
    "### Extracting  meaningful data values"
   ]
  },
  {
   "cell_type": "code",
   "execution_count": 222,
   "metadata": {},
   "outputs": [],
   "source": [
    "ndf=df.iloc[3:,2:7]"
   ]
  },
  {
   "cell_type": "code",
   "execution_count": 223,
   "metadata": {
    "scrolled": true
   },
   "outputs": [
    {
     "data": {
      "text/html": [
       "<div>\n",
       "<style scoped>\n",
       "    .dataframe tbody tr th:only-of-type {\n",
       "        vertical-align: middle;\n",
       "    }\n",
       "\n",
       "    .dataframe tbody tr th {\n",
       "        vertical-align: top;\n",
       "    }\n",
       "\n",
       "    .dataframe thead th {\n",
       "        text-align: right;\n",
       "    }\n",
       "</style>\n",
       "<table border=\"1\" class=\"dataframe\">\n",
       "  <thead>\n",
       "    <tr style=\"text-align: right;\">\n",
       "      <th></th>\n",
       "      <th>One Skill to Rule Them All</th>\n",
       "      <th>Unnamed: 3</th>\n",
       "      <th>Unnamed: 4</th>\n",
       "      <th>Unnamed: 5</th>\n",
       "      <th>Unnamed: 6</th>\n",
       "    </tr>\n",
       "  </thead>\n",
       "  <tbody>\n",
       "    <tr>\n",
       "      <th>3</th>\n",
       "      <td>Hailey Antcliff</td>\n",
       "      <td>Hailey_Antcliff9757@yahoo.audio</td>\n",
       "      <td>Leadership</td>\n",
       "      <td>Wednesday, December 14, 2022</td>\n",
       "      <td>500</td>\n",
       "    </tr>\n",
       "  </tbody>\n",
       "</table>\n",
       "</div>"
      ],
      "text/plain": [
       "  One Skill to Rule Them All                       Unnamed: 3  Unnamed: 4  \\\n",
       "3            Hailey Antcliff  Hailey_Antcliff9757@yahoo.audio  Leadership   \n",
       "\n",
       "                     Unnamed: 5 Unnamed: 6  \n",
       "3  Wednesday, December 14, 2022        500  "
      ]
     },
     "execution_count": 223,
     "metadata": {},
     "output_type": "execute_result"
    }
   ],
   "source": [
    "ndf.head(1)"
   ]
  },
  {
   "cell_type": "markdown",
   "metadata": {},
   "source": [
    "### rename the  Columns"
   ]
  },
  {
   "cell_type": "code",
   "execution_count": 224,
   "metadata": {},
   "outputs": [
    {
     "data": {
      "text/html": [
       "<div>\n",
       "<style scoped>\n",
       "    .dataframe tbody tr th:only-of-type {\n",
       "        vertical-align: middle;\n",
       "    }\n",
       "\n",
       "    .dataframe tbody tr th {\n",
       "        vertical-align: top;\n",
       "    }\n",
       "\n",
       "    .dataframe thead th {\n",
       "        text-align: right;\n",
       "    }\n",
       "</style>\n",
       "<table border=\"1\" class=\"dataframe\">\n",
       "  <thead>\n",
       "    <tr style=\"text-align: right;\">\n",
       "      <th></th>\n",
       "      <th>Name</th>\n",
       "      <th>Email</th>\n",
       "      <th>Course</th>\n",
       "      <th>Registration_date</th>\n",
       "      <th>Paid_ammount</th>\n",
       "    </tr>\n",
       "  </thead>\n",
       "  <tbody>\n",
       "    <tr>\n",
       "      <th>3</th>\n",
       "      <td>Hailey Antcliff</td>\n",
       "      <td>Hailey_Antcliff9757@yahoo.audio</td>\n",
       "      <td>Leadership</td>\n",
       "      <td>Wednesday, December 14, 2022</td>\n",
       "      <td>500</td>\n",
       "    </tr>\n",
       "  </tbody>\n",
       "</table>\n",
       "</div>"
      ],
      "text/plain": [
       "              Name                            Email      Course  \\\n",
       "3  Hailey Antcliff  Hailey_Antcliff9757@yahoo.audio  Leadership   \n",
       "\n",
       "              Registration_date Paid_ammount  \n",
       "3  Wednesday, December 14, 2022          500  "
      ]
     },
     "execution_count": 224,
     "metadata": {},
     "output_type": "execute_result"
    }
   ],
   "source": [
    "columns=[\"Name\",\"Email\",\"Course\",\"Registration_date\",\"Paid_ammount\"]\n",
    "ndf.columns=columns\n",
    "ndf.head(1)"
   ]
  },
  {
   "cell_type": "markdown",
   "metadata": {},
   "source": [
    "### Summary about the filtered datasets"
   ]
  },
  {
   "cell_type": "code",
   "execution_count": 67,
   "metadata": {},
   "outputs": [
    {
     "name": "stdout",
     "output_type": "stream",
     "text": [
      "<class 'pandas.core.frame.DataFrame'>\n",
      "RangeIndex: 130 entries, 3 to 132\n",
      "Data columns (total 5 columns):\n",
      " #   Column             Non-Null Count  Dtype \n",
      "---  ------             --------------  ----- \n",
      " 0   Name               130 non-null    object\n",
      " 1   Email              130 non-null    object\n",
      " 2   Course             105 non-null    object\n",
      " 3   Registration_date  111 non-null    object\n",
      " 4   Paid_ammount       94 non-null     object\n",
      "dtypes: object(5)\n",
      "memory usage: 5.2+ KB\n"
     ]
    }
   ],
   "source": [
    "ndf.info()"
   ]
  },
  {
   "cell_type": "markdown",
   "metadata": {},
   "source": [
    "### Checking whether is there any nan values in columns "
   ]
  },
  {
   "cell_type": "code",
   "execution_count": 68,
   "metadata": {},
   "outputs": [
    {
     "data": {
      "text/plain": [
       "True"
      ]
     },
     "execution_count": 68,
     "metadata": {},
     "output_type": "execute_result"
    }
   ],
   "source": [
    "ndf.isnull().values.any()"
   ]
  },
  {
   "cell_type": "code",
   "execution_count": 69,
   "metadata": {
    "scrolled": true
   },
   "outputs": [
    {
     "data": {
      "text/plain": [
       "Name                  0\n",
       "Email                 0\n",
       "Course               25\n",
       "Registration_date    19\n",
       "Paid_ammount         36\n",
       "dtype: int64"
      ]
     },
     "execution_count": 69,
     "metadata": {},
     "output_type": "execute_result"
    }
   ],
   "source": [
    "# total number nan values in each  column .\n",
    "missing_values=ndf.isna().sum()  # df.isnull().sum() \"samiliar thing \"\n",
    "missing_values"
   ]
  },
  {
   "cell_type": "code",
   "execution_count": 225,
   "metadata": {},
   "outputs": [
    {
     "data": {
      "image/png": "[encoded data removed]",
      "text/plain": [
       "<Figure size 640x480 with 1 Axes>"
      ]
     },
     "metadata": {},
     "output_type": "display_data"
    }
   ],
   "source": [
    "#percentage of missing values\n",
    "\n",
    "total_datapoints= np.product(ndf.shape)\n",
    "total_missing_points=missing_values.sum()\n",
    "percent_missing = (total_missing_points/ total_datapoints) * 100\n",
    "\n",
    "pie_data = [percent_missing, 100 - percent_missing]\n",
    "pie_labels = ['Missing data points: {}'.format(total_missing_points), 'Existing data points: {}'.format(total_datapoints)]\n",
    "\n",
    "colors = ['skyblue', 'lightcoral']\n",
    "plt.pie(pie_data,labels=pie_labels,colors=colors,shadow=True,startangle=140, autopct=\"%1.1f%%\")\n",
    "plt.title('Pie Chart of Missing Values')\n",
    "plt.show()"
   ]
  },
  {
   "cell_type": "code",
   "execution_count": 226,
   "metadata": {},
   "outputs": [
    {
     "data": {
      "text/html": [
       "<div>\n",
       "<style scoped>\n",
       "    .dataframe tbody tr th:only-of-type {\n",
       "        vertical-align: middle;\n",
       "    }\n",
       "\n",
       "    .dataframe tbody tr th {\n",
       "        vertical-align: top;\n",
       "    }\n",
       "\n",
       "    .dataframe thead th {\n",
       "        text-align: right;\n",
       "    }\n",
       "</style>\n",
       "<table border=\"1\" class=\"dataframe\">\n",
       "  <thead>\n",
       "    <tr style=\"text-align: right;\">\n",
       "      <th></th>\n",
       "      <th>Name</th>\n",
       "      <th>Email</th>\n",
       "      <th>Course</th>\n",
       "      <th>Registration_date</th>\n",
       "      <th>Paid_ammount</th>\n",
       "    </tr>\n",
       "  </thead>\n",
       "  <tbody>\n",
       "    <tr>\n",
       "      <th>7</th>\n",
       "      <td>Maya Randall</td>\n",
       "      <td>Maya_Randall2939@lhp4j.meet</td>\n",
       "      <td>NaN</td>\n",
       "      <td>NaN</td>\n",
       "      <td>100</td>\n",
       "    </tr>\n",
       "    <tr>\n",
       "      <th>7</th>\n",
       "      <td>Maya Randall</td>\n",
       "      <td>Maya_Randall2939@lhp4j.meet</td>\n",
       "      <td>NaN</td>\n",
       "      <td>NaN</td>\n",
       "      <td>100</td>\n",
       "    </tr>\n",
       "    <tr>\n",
       "      <th>9</th>\n",
       "      <td>Freya Reynolds</td>\n",
       "      <td>Freya_Reynolds9608@bqkv0.site</td>\n",
       "      <td>Accounting</td>\n",
       "      <td>Saturday, December 3, 2022</td>\n",
       "      <td>NaN</td>\n",
       "    </tr>\n",
       "    <tr>\n",
       "      <th>12</th>\n",
       "      <td>Kieth Lynn</td>\n",
       "      <td>Kieth_Lynn9930@voylg.online</td>\n",
       "      <td>Analytics</td>\n",
       "      <td>Friday, December 2, 2022</td>\n",
       "      <td>NaN</td>\n",
       "    </tr>\n",
       "    <tr>\n",
       "      <th>16</th>\n",
       "      <td>Hayden Gordon</td>\n",
       "      <td>Hayden_Gordon9449@gnjps.directory</td>\n",
       "      <td>Analytics</td>\n",
       "      <td>Sunday, December 4, 2022</td>\n",
       "      <td>NaN</td>\n",
       "    </tr>\n",
       "    <tr>\n",
       "      <th>...</th>\n",
       "      <td>...</td>\n",
       "      <td>...</td>\n",
       "      <td>...</td>\n",
       "      <td>...</td>\n",
       "      <td>...</td>\n",
       "    </tr>\n",
       "    <tr>\n",
       "      <th>119</th>\n",
       "      <td>Emely Wilkinson</td>\n",
       "      <td>Emely_Wilkinson7293@cdpfn.property</td>\n",
       "      <td>NaN</td>\n",
       "      <td>NaN</td>\n",
       "      <td>250</td>\n",
       "    </tr>\n",
       "    <tr>\n",
       "      <th>126</th>\n",
       "      <td>Maya Randall</td>\n",
       "      <td>Maya_Randall2939@lhp4j.meet</td>\n",
       "      <td>NaN</td>\n",
       "      <td>NaN</td>\n",
       "      <td>100</td>\n",
       "    </tr>\n",
       "    <tr>\n",
       "      <th>126</th>\n",
       "      <td>Maya Randall</td>\n",
       "      <td>Maya_Randall2939@lhp4j.meet</td>\n",
       "      <td>NaN</td>\n",
       "      <td>NaN</td>\n",
       "      <td>100</td>\n",
       "    </tr>\n",
       "    <tr>\n",
       "      <th>128</th>\n",
       "      <td>Freya Reynolds</td>\n",
       "      <td>Freya_Reynolds9608@bqkv0.site</td>\n",
       "      <td>Accounting</td>\n",
       "      <td>Saturday, December 3, 2022</td>\n",
       "      <td>NaN</td>\n",
       "    </tr>\n",
       "    <tr>\n",
       "      <th>131</th>\n",
       "      <td>Kieth Lynn</td>\n",
       "      <td>Kieth_Lynn9930@voylg.online</td>\n",
       "      <td>Analytics</td>\n",
       "      <td>Friday, December 2, 2022</td>\n",
       "      <td>NaN</td>\n",
       "    </tr>\n",
       "  </tbody>\n",
       "</table>\n",
       "<p>80 rows × 5 columns</p>\n",
       "</div>"
      ],
      "text/plain": [
       "                Name                               Email      Course  \\\n",
       "7       Maya Randall         Maya_Randall2939@lhp4j.meet         NaN   \n",
       "7       Maya Randall         Maya_Randall2939@lhp4j.meet         NaN   \n",
       "9     Freya Reynolds       Freya_Reynolds9608@bqkv0.site  Accounting   \n",
       "12        Kieth Lynn         Kieth_Lynn9930@voylg.online   Analytics   \n",
       "16     Hayden Gordon   Hayden_Gordon9449@gnjps.directory   Analytics   \n",
       "..               ...                                 ...         ...   \n",
       "119  Emely Wilkinson  Emely_Wilkinson7293@cdpfn.property         NaN   \n",
       "126    Maya Randall          Maya_Randall2939@lhp4j.meet         NaN   \n",
       "126    Maya Randall          Maya_Randall2939@lhp4j.meet         NaN   \n",
       "128   Freya Reynolds      Freya_Reynolds9608@bqkv0.site   Accounting   \n",
       "131       Kieth Lynn        Kieth_Lynn9930@voylg.online    Analytics   \n",
       "\n",
       "              Registration_date Paid_ammount  \n",
       "7                           NaN          100  \n",
       "7                           NaN          100  \n",
       "9    Saturday, December 3, 2022          NaN  \n",
       "12     Friday, December 2, 2022          NaN  \n",
       "16     Sunday, December 4, 2022          NaN  \n",
       "..                          ...          ...  \n",
       "119                         NaN          250  \n",
       "126                         NaN          100  \n",
       "126                         NaN          100  \n",
       "128  Saturday, December 3, 2022          NaN  \n",
       "131    Friday, December 2, 2022          NaN  \n",
       "\n",
       "[80 rows x 5 columns]"
      ]
     },
     "execution_count": 226,
     "metadata": {},
     "output_type": "execute_result"
    }
   ],
   "source": [
    "#displaying missing values\n",
    "ndf[ndf.isnull().values]"
   ]
  },
  {
   "cell_type": "markdown",
   "metadata": {},
   "source": [
    "<!DOCTYPE html>\n",
    "<html>\n",
    "<head>\n",
    "    <style>\n",
    "        /* Add your custom styling here */\n",
    "        .method {\n",
    "            font-weight: bold;\n",
    "        }\n",
    "        .code {\n",
    "            font-family: monospace;\n",
    "            background-color: #f7f7f7;\n",
    "            padding: 5px;\n",
    "        }\n",
    "    </style>\n",
    "</head>\n",
    "<body>\n",
    "    <h2>Missing Value Handling</h2>\n",
    "    <p>There are several methods to handle NaN (Not-a-Number) values:</p>\n",
    "    <ol>\n",
    "        <li class=\"method\">\n",
    "            <strong>Mean/Median or Custom Value Imputation (for numeric values)</strong>\n",
    "            <p>Replace missing numerical values with the mean or median of the feature:</p>\n",
    "            <pre class=\"code\">ndf['column_name'].fillna(ndf['column_name'].mean(), inplace=True)</pre>\n",
    "        </li>\n",
    "        <li class=\"method\">\n",
    "            <strong>Mode Imputation (for categorical data)</strong>\n",
    "            <p>Replace missing values with the most frequent category (mode):</p>\n",
    "            <pre class=\"code\">ndf['category_column'].fillna(ndf['category_column'].mode()[0], inplace=True)</pre>\n",
    "        </li>\n",
    "        <li class=\"method\">\n",
    "            <strong>Dropping Rows or Columns</strong>\n",
    "            <p>If the dataset is large enough, consider dropping missing values from any specific columns:</p>\n",
    "            <pre class=\"code\">ndf.dropna(subset=['column_name'], inplace=True)</pre>\n",
    "        </li>\n",
    "        <li class=\"method\">\n",
    "            <strong>K-Nearest Neighbors (KNN) Imputation</strong>\n",
    "            <p>Impute missing values based on the values of their nearest neighbors:</p>\n",
    "            <pre class=\"code\">\n",
    "from sklearn.impute import KNNImputer\n",
    "imputer = KNNImputer(n_neighbors=3)\n",
    "ndf_imputed = pd.DataFrame(imputer.fit_transform(ndf), columns=ndf.columns)\n",
    "            </pre>\n",
    "        </li>\n",
    "        <li class=\"method\">\n",
    "            <strong>Regression Imputation</strong>\n",
    "            <p>Impute missing values based on regression models using other features:</p>\n",
    "            <pre class=\"code\">\n",
    "from sklearn.linear_model import LinearRegression\n",
    "regressor = LinearRegression()\n",
    "# Assuming 'feature1' and 'feature2' are other relevant features\n",
    "ndf['column_name'] = regressor.fit(ndf[['feature1', 'feature2']], ndf['column_name']).predict(ndf[['feature1', 'feature2']])\n",
    "            </pre>\n",
    "        </li>\n",
    "    </ol>\n",
    "    <!-- Add any additional content or explanations here -->\n",
    "</body>\n",
    "</html>\n"
   ]
  },
  {
   "cell_type": "code",
   "execution_count": 74,
   "metadata": {
    "scrolled": true
   },
   "outputs": [],
   "source": [
    "#Custom value imputation\n",
    "ndf.Paid_ammount.fillna(0,inplace=True)"
   ]
  },
  {
   "cell_type": "code",
   "execution_count": 75,
   "metadata": {},
   "outputs": [
    {
     "name": "stdout",
     "output_type": "stream",
     "text": [
      "<class 'pandas.core.frame.DataFrame'>\n",
      "RangeIndex: 130 entries, 3 to 132\n",
      "Data columns (total 5 columns):\n",
      " #   Column             Non-Null Count  Dtype \n",
      "---  ------             --------------  ----- \n",
      " 0   Name               130 non-null    object\n",
      " 1   Email              130 non-null    object\n",
      " 2   Course             105 non-null    object\n",
      " 3   Registration_date  111 non-null    object\n",
      " 4   Paid_ammount       130 non-null    object\n",
      "dtypes: object(5)\n",
      "memory usage: 5.2+ KB\n"
     ]
    }
   ],
   "source": [
    "ndf.info()"
   ]
  },
  {
   "cell_type": "code",
   "execution_count": 76,
   "metadata": {},
   "outputs": [
    {
     "data": {
      "text/html": [
       "<div>\n",
       "<style scoped>\n",
       "    .dataframe tbody tr th:only-of-type {\n",
       "        vertical-align: middle;\n",
       "    }\n",
       "\n",
       "    .dataframe tbody tr th {\n",
       "        vertical-align: top;\n",
       "    }\n",
       "\n",
       "    .dataframe thead th {\n",
       "        text-align: right;\n",
       "    }\n",
       "</style>\n",
       "<table border=\"1\" class=\"dataframe\">\n",
       "  <thead>\n",
       "    <tr style=\"text-align: right;\">\n",
       "      <th></th>\n",
       "      <th>Name</th>\n",
       "      <th>Email</th>\n",
       "      <th>Course</th>\n",
       "      <th>Registration_date</th>\n",
       "      <th>Paid_ammount</th>\n",
       "    </tr>\n",
       "  </thead>\n",
       "  <tbody>\n",
       "    <tr>\n",
       "      <th>7</th>\n",
       "      <td>Maya Randall</td>\n",
       "      <td>Maya_Randall2939@lhp4j.meet</td>\n",
       "      <td>NaN</td>\n",
       "      <td>NaN</td>\n",
       "      <td>100</td>\n",
       "    </tr>\n",
       "    <tr>\n",
       "      <th>7</th>\n",
       "      <td>Maya Randall</td>\n",
       "      <td>Maya_Randall2939@lhp4j.meet</td>\n",
       "      <td>NaN</td>\n",
       "      <td>NaN</td>\n",
       "      <td>100</td>\n",
       "    </tr>\n",
       "    <tr>\n",
       "      <th>17</th>\n",
       "      <td>Marilyn Lomax</td>\n",
       "      <td>Marilyn_Lomax5283@c2nyu.online</td>\n",
       "      <td>NaN</td>\n",
       "      <td>NaN</td>\n",
       "      <td>500</td>\n",
       "    </tr>\n",
       "    <tr>\n",
       "      <th>17</th>\n",
       "      <td>Marilyn Lomax</td>\n",
       "      <td>Marilyn_Lomax5283@c2nyu.online</td>\n",
       "      <td>NaN</td>\n",
       "      <td>NaN</td>\n",
       "      <td>500</td>\n",
       "    </tr>\n",
       "    <tr>\n",
       "      <th>19</th>\n",
       "      <td>Alice Spencer</td>\n",
       "      <td>Alice_Spencer8470@yafr7.services</td>\n",
       "      <td>NaN</td>\n",
       "      <td>NaN</td>\n",
       "      <td>250</td>\n",
       "    </tr>\n",
       "    <tr>\n",
       "      <th>19</th>\n",
       "      <td>Alice Spencer</td>\n",
       "      <td>Alice_Spencer8470@yafr7.services</td>\n",
       "      <td>NaN</td>\n",
       "      <td>NaN</td>\n",
       "      <td>250</td>\n",
       "    </tr>\n",
       "    <tr>\n",
       "      <th>21</th>\n",
       "      <td>Erick Whitmore</td>\n",
       "      <td>Erick_Whitmore5039@crzq7.center</td>\n",
       "      <td>NaN</td>\n",
       "      <td>NaN</td>\n",
       "      <td>500</td>\n",
       "    </tr>\n",
       "    <tr>\n",
       "      <th>21</th>\n",
       "      <td>Erick Whitmore</td>\n",
       "      <td>Erick_Whitmore5039@crzq7.center</td>\n",
       "      <td>NaN</td>\n",
       "      <td>NaN</td>\n",
       "      <td>500</td>\n",
       "    </tr>\n",
       "    <tr>\n",
       "      <th>24</th>\n",
       "      <td>Ada Brennan</td>\n",
       "      <td>Ada_Brennan2264@ag5wi.info</td>\n",
       "      <td>NaN</td>\n",
       "      <td>NaN</td>\n",
       "      <td>0</td>\n",
       "    </tr>\n",
       "    <tr>\n",
       "      <th>24</th>\n",
       "      <td>Ada Brennan</td>\n",
       "      <td>Ada_Brennan2264@ag5wi.info</td>\n",
       "      <td>NaN</td>\n",
       "      <td>NaN</td>\n",
       "      <td>0</td>\n",
       "    </tr>\n",
       "    <tr>\n",
       "      <th>26</th>\n",
       "      <td>Sarah Notman</td>\n",
       "      <td>Sarah_Notman1234@3wbkp.works</td>\n",
       "      <td>NaN</td>\n",
       "      <td>NaN</td>\n",
       "      <td>500</td>\n",
       "    </tr>\n",
       "    <tr>\n",
       "      <th>26</th>\n",
       "      <td>Sarah Notman</td>\n",
       "      <td>Sarah_Notman1234@3wbkp.works</td>\n",
       "      <td>NaN</td>\n",
       "      <td>NaN</td>\n",
       "      <td>500</td>\n",
       "    </tr>\n",
       "    <tr>\n",
       "      <th>27</th>\n",
       "      <td>Sonya Richards</td>\n",
       "      <td>Sonya_Richards9066@yfxpw.video</td>\n",
       "      <td>NaN</td>\n",
       "      <td>NaN</td>\n",
       "      <td>500</td>\n",
       "    </tr>\n",
       "    <tr>\n",
       "      <th>27</th>\n",
       "      <td>Sonya Richards</td>\n",
       "      <td>Sonya_Richards9066@yfxpw.video</td>\n",
       "      <td>NaN</td>\n",
       "      <td>NaN</td>\n",
       "      <td>500</td>\n",
       "    </tr>\n",
       "    <tr>\n",
       "      <th>32</th>\n",
       "      <td>Daniel Lomax</td>\n",
       "      <td>Daniel_Lomax6341@yfxpw.property</td>\n",
       "      <td>NaN</td>\n",
       "      <td>Wednesday, December 28, 2022</td>\n",
       "      <td>100</td>\n",
       "    </tr>\n",
       "    <tr>\n",
       "      <th>40</th>\n",
       "      <td>Alba Allcott</td>\n",
       "      <td>Alba_Allcott1554@nb44i.online</td>\n",
       "      <td>NaN</td>\n",
       "      <td>NaN</td>\n",
       "      <td>500</td>\n",
       "    </tr>\n",
       "    <tr>\n",
       "      <th>40</th>\n",
       "      <td>Alba Allcott</td>\n",
       "      <td>Alba_Allcott1554@nb44i.online</td>\n",
       "      <td>NaN</td>\n",
       "      <td>NaN</td>\n",
       "      <td>500</td>\n",
       "    </tr>\n",
       "    <tr>\n",
       "      <th>41</th>\n",
       "      <td>Bob Rycroft</td>\n",
       "      <td>Bob_Rycroft1025@p5emz.directory</td>\n",
       "      <td>NaN</td>\n",
       "      <td>NaN</td>\n",
       "      <td>0</td>\n",
       "    </tr>\n",
       "    <tr>\n",
       "      <th>41</th>\n",
       "      <td>Bob Rycroft</td>\n",
       "      <td>Bob_Rycroft1025@p5emz.directory</td>\n",
       "      <td>NaN</td>\n",
       "      <td>NaN</td>\n",
       "      <td>0</td>\n",
       "    </tr>\n",
       "    <tr>\n",
       "      <th>43</th>\n",
       "      <td>Caitlyn Adler</td>\n",
       "      <td>Caitlyn_Adler3155@hepmv.shop</td>\n",
       "      <td>NaN</td>\n",
       "      <td>Friday, December 9, 2022</td>\n",
       "      <td>500</td>\n",
       "    </tr>\n",
       "    <tr>\n",
       "      <th>51</th>\n",
       "      <td>Gwen Porter</td>\n",
       "      <td>Gwen_Porter9514@ckzyi.autos</td>\n",
       "      <td>NaN</td>\n",
       "      <td>NaN</td>\n",
       "      <td>500</td>\n",
       "    </tr>\n",
       "    <tr>\n",
       "      <th>51</th>\n",
       "      <td>Gwen Porter</td>\n",
       "      <td>Gwen_Porter9514@ckzyi.autos</td>\n",
       "      <td>NaN</td>\n",
       "      <td>NaN</td>\n",
       "      <td>500</td>\n",
       "    </tr>\n",
       "    <tr>\n",
       "      <th>57</th>\n",
       "      <td>Bryon Lyon</td>\n",
       "      <td>Bryon_Lyon2242@fhuux.autos</td>\n",
       "      <td>NaN</td>\n",
       "      <td>NaN</td>\n",
       "      <td>250</td>\n",
       "    </tr>\n",
       "    <tr>\n",
       "      <th>57</th>\n",
       "      <td>Bryon Lyon</td>\n",
       "      <td>Bryon_Lyon2242@fhuux.autos</td>\n",
       "      <td>NaN</td>\n",
       "      <td>NaN</td>\n",
       "      <td>250</td>\n",
       "    </tr>\n",
       "    <tr>\n",
       "      <th>67</th>\n",
       "      <td>Eve Whitmore</td>\n",
       "      <td>Eve_Whitmore3703@nanoff.app</td>\n",
       "      <td>NaN</td>\n",
       "      <td>NaN</td>\n",
       "      <td>0</td>\n",
       "    </tr>\n",
       "    <tr>\n",
       "      <th>67</th>\n",
       "      <td>Eve Whitmore</td>\n",
       "      <td>Eve_Whitmore3703@nanoff.app</td>\n",
       "      <td>NaN</td>\n",
       "      <td>NaN</td>\n",
       "      <td>0</td>\n",
       "    </tr>\n",
       "    <tr>\n",
       "      <th>70</th>\n",
       "      <td>Cara Vane</td>\n",
       "      <td>Cara_Vane9101@lhp4j.org</td>\n",
       "      <td>NaN</td>\n",
       "      <td>Sunday, December 18, 2022</td>\n",
       "      <td>250</td>\n",
       "    </tr>\n",
       "    <tr>\n",
       "      <th>72</th>\n",
       "      <td>Johnathan Trent</td>\n",
       "      <td>Johnathan_Trent4892@cdpfn.autos</td>\n",
       "      <td>NaN</td>\n",
       "      <td>NaN</td>\n",
       "      <td>0</td>\n",
       "    </tr>\n",
       "    <tr>\n",
       "      <th>72</th>\n",
       "      <td>Johnathan Trent</td>\n",
       "      <td>Johnathan_Trent4892@cdpfn.autos</td>\n",
       "      <td>NaN</td>\n",
       "      <td>NaN</td>\n",
       "      <td>0</td>\n",
       "    </tr>\n",
       "    <tr>\n",
       "      <th>78</th>\n",
       "      <td>Freya Archer</td>\n",
       "      <td>Freya_Archer8730@iaart.website</td>\n",
       "      <td>NaN</td>\n",
       "      <td>Friday, December 30, 2022</td>\n",
       "      <td>0</td>\n",
       "    </tr>\n",
       "    <tr>\n",
       "      <th>81</th>\n",
       "      <td>Kurt Blackburn</td>\n",
       "      <td>Kurt_Blackburn350@iaart.services</td>\n",
       "      <td>NaN</td>\n",
       "      <td>NaN</td>\n",
       "      <td>500</td>\n",
       "    </tr>\n",
       "    <tr>\n",
       "      <th>81</th>\n",
       "      <td>Kurt Blackburn</td>\n",
       "      <td>Kurt_Blackburn350@iaart.services</td>\n",
       "      <td>NaN</td>\n",
       "      <td>NaN</td>\n",
       "      <td>500</td>\n",
       "    </tr>\n",
       "    <tr>\n",
       "      <th>85</th>\n",
       "      <td>Tyler Thorne</td>\n",
       "      <td>Tyler_Thorne3513@yvu30.works</td>\n",
       "      <td>NaN</td>\n",
       "      <td>NaN</td>\n",
       "      <td>500</td>\n",
       "    </tr>\n",
       "    <tr>\n",
       "      <th>85</th>\n",
       "      <td>Tyler Thorne</td>\n",
       "      <td>Tyler_Thorne3513@yvu30.works</td>\n",
       "      <td>NaN</td>\n",
       "      <td>NaN</td>\n",
       "      <td>500</td>\n",
       "    </tr>\n",
       "    <tr>\n",
       "      <th>95</th>\n",
       "      <td>Owen Anderson</td>\n",
       "      <td>Owen_Anderson388@3wbkp.page</td>\n",
       "      <td>NaN</td>\n",
       "      <td>NaN</td>\n",
       "      <td>250</td>\n",
       "    </tr>\n",
       "    <tr>\n",
       "      <th>95</th>\n",
       "      <td>Owen Anderson</td>\n",
       "      <td>Owen_Anderson388@3wbkp.page</td>\n",
       "      <td>NaN</td>\n",
       "      <td>NaN</td>\n",
       "      <td>250</td>\n",
       "    </tr>\n",
       "    <tr>\n",
       "      <th>96</th>\n",
       "      <td>Ethan Penn</td>\n",
       "      <td>Ethan_Penn2248@xtwt3.catering</td>\n",
       "      <td>NaN</td>\n",
       "      <td>NaN</td>\n",
       "      <td>100</td>\n",
       "    </tr>\n",
       "    <tr>\n",
       "      <th>96</th>\n",
       "      <td>Ethan Penn</td>\n",
       "      <td>Ethan_Penn2248@xtwt3.catering</td>\n",
       "      <td>NaN</td>\n",
       "      <td>NaN</td>\n",
       "      <td>100</td>\n",
       "    </tr>\n",
       "    <tr>\n",
       "      <th>97</th>\n",
       "      <td>Benny Clarke</td>\n",
       "      <td>Benny_Clarke7034@lyvnc.net</td>\n",
       "      <td>NaN</td>\n",
       "      <td>Tuesday, December 20, 2022</td>\n",
       "      <td>500</td>\n",
       "    </tr>\n",
       "    <tr>\n",
       "      <th>100</th>\n",
       "      <td>Belinda Simmons</td>\n",
       "      <td>Belinda_Simmons9851@nb44i.page</td>\n",
       "      <td>NaN</td>\n",
       "      <td>Friday, December 9, 2022</td>\n",
       "      <td>100</td>\n",
       "    </tr>\n",
       "    <tr>\n",
       "      <th>119</th>\n",
       "      <td>Emely Wilkinson</td>\n",
       "      <td>Emely_Wilkinson7293@cdpfn.property</td>\n",
       "      <td>NaN</td>\n",
       "      <td>NaN</td>\n",
       "      <td>250</td>\n",
       "    </tr>\n",
       "    <tr>\n",
       "      <th>119</th>\n",
       "      <td>Emely Wilkinson</td>\n",
       "      <td>Emely_Wilkinson7293@cdpfn.property</td>\n",
       "      <td>NaN</td>\n",
       "      <td>NaN</td>\n",
       "      <td>250</td>\n",
       "    </tr>\n",
       "    <tr>\n",
       "      <th>126</th>\n",
       "      <td>Maya Randall</td>\n",
       "      <td>Maya_Randall2939@lhp4j.meet</td>\n",
       "      <td>NaN</td>\n",
       "      <td>NaN</td>\n",
       "      <td>100</td>\n",
       "    </tr>\n",
       "    <tr>\n",
       "      <th>126</th>\n",
       "      <td>Maya Randall</td>\n",
       "      <td>Maya_Randall2939@lhp4j.meet</td>\n",
       "      <td>NaN</td>\n",
       "      <td>NaN</td>\n",
       "      <td>100</td>\n",
       "    </tr>\n",
       "  </tbody>\n",
       "</table>\n",
       "</div>"
      ],
      "text/plain": [
       "                Name                               Email Course  \\\n",
       "7       Maya Randall         Maya_Randall2939@lhp4j.meet    NaN   \n",
       "7       Maya Randall         Maya_Randall2939@lhp4j.meet    NaN   \n",
       "17     Marilyn Lomax      Marilyn_Lomax5283@c2nyu.online    NaN   \n",
       "17     Marilyn Lomax      Marilyn_Lomax5283@c2nyu.online    NaN   \n",
       "19     Alice Spencer    Alice_Spencer8470@yafr7.services    NaN   \n",
       "19     Alice Spencer    Alice_Spencer8470@yafr7.services    NaN   \n",
       "21    Erick Whitmore     Erick_Whitmore5039@crzq7.center    NaN   \n",
       "21    Erick Whitmore     Erick_Whitmore5039@crzq7.center    NaN   \n",
       "24       Ada Brennan          Ada_Brennan2264@ag5wi.info    NaN   \n",
       "24       Ada Brennan          Ada_Brennan2264@ag5wi.info    NaN   \n",
       "26      Sarah Notman        Sarah_Notman1234@3wbkp.works    NaN   \n",
       "26      Sarah Notman        Sarah_Notman1234@3wbkp.works    NaN   \n",
       "27    Sonya Richards      Sonya_Richards9066@yfxpw.video    NaN   \n",
       "27    Sonya Richards      Sonya_Richards9066@yfxpw.video    NaN   \n",
       "32      Daniel Lomax     Daniel_Lomax6341@yfxpw.property    NaN   \n",
       "40      Alba Allcott       Alba_Allcott1554@nb44i.online    NaN   \n",
       "40      Alba Allcott       Alba_Allcott1554@nb44i.online    NaN   \n",
       "41       Bob Rycroft     Bob_Rycroft1025@p5emz.directory    NaN   \n",
       "41       Bob Rycroft     Bob_Rycroft1025@p5emz.directory    NaN   \n",
       "43     Caitlyn Adler        Caitlyn_Adler3155@hepmv.shop    NaN   \n",
       "51       Gwen Porter         Gwen_Porter9514@ckzyi.autos    NaN   \n",
       "51       Gwen Porter         Gwen_Porter9514@ckzyi.autos    NaN   \n",
       "57        Bryon Lyon          Bryon_Lyon2242@fhuux.autos    NaN   \n",
       "57        Bryon Lyon          Bryon_Lyon2242@fhuux.autos    NaN   \n",
       "67      Eve Whitmore         Eve_Whitmore3703@nanoff.app    NaN   \n",
       "67      Eve Whitmore         Eve_Whitmore3703@nanoff.app    NaN   \n",
       "70         Cara Vane             Cara_Vane9101@lhp4j.org    NaN   \n",
       "72   Johnathan Trent     Johnathan_Trent4892@cdpfn.autos    NaN   \n",
       "72   Johnathan Trent     Johnathan_Trent4892@cdpfn.autos    NaN   \n",
       "78      Freya Archer      Freya_Archer8730@iaart.website    NaN   \n",
       "81    Kurt Blackburn    Kurt_Blackburn350@iaart.services    NaN   \n",
       "81    Kurt Blackburn    Kurt_Blackburn350@iaart.services    NaN   \n",
       "85      Tyler Thorne        Tyler_Thorne3513@yvu30.works    NaN   \n",
       "85      Tyler Thorne        Tyler_Thorne3513@yvu30.works    NaN   \n",
       "95     Owen Anderson         Owen_Anderson388@3wbkp.page    NaN   \n",
       "95     Owen Anderson         Owen_Anderson388@3wbkp.page    NaN   \n",
       "96        Ethan Penn       Ethan_Penn2248@xtwt3.catering    NaN   \n",
       "96        Ethan Penn       Ethan_Penn2248@xtwt3.catering    NaN   \n",
       "97      Benny Clarke          Benny_Clarke7034@lyvnc.net    NaN   \n",
       "100  Belinda Simmons      Belinda_Simmons9851@nb44i.page    NaN   \n",
       "119  Emely Wilkinson  Emely_Wilkinson7293@cdpfn.property    NaN   \n",
       "119  Emely Wilkinson  Emely_Wilkinson7293@cdpfn.property    NaN   \n",
       "126    Maya Randall          Maya_Randall2939@lhp4j.meet    NaN   \n",
       "126    Maya Randall          Maya_Randall2939@lhp4j.meet    NaN   \n",
       "\n",
       "                Registration_date Paid_ammount  \n",
       "7                             NaN          100  \n",
       "7                             NaN          100  \n",
       "17                            NaN          500  \n",
       "17                            NaN          500  \n",
       "19                            NaN          250  \n",
       "19                            NaN          250  \n",
       "21                            NaN          500  \n",
       "21                            NaN          500  \n",
       "24                            NaN            0  \n",
       "24                            NaN            0  \n",
       "26                            NaN          500  \n",
       "26                            NaN          500  \n",
       "27                            NaN          500  \n",
       "27                            NaN          500  \n",
       "32   Wednesday, December 28, 2022          100  \n",
       "40                            NaN          500  \n",
       "40                            NaN          500  \n",
       "41                            NaN            0  \n",
       "41                            NaN            0  \n",
       "43       Friday, December 9, 2022          500  \n",
       "51                            NaN          500  \n",
       "51                            NaN          500  \n",
       "57                            NaN          250  \n",
       "57                            NaN          250  \n",
       "67                            NaN            0  \n",
       "67                            NaN            0  \n",
       "70      Sunday, December 18, 2022          250  \n",
       "72                            NaN            0  \n",
       "72                            NaN            0  \n",
       "78      Friday, December 30, 2022            0  \n",
       "81                            NaN          500  \n",
       "81                            NaN          500  \n",
       "85                            NaN          500  \n",
       "85                            NaN          500  \n",
       "95                            NaN          250  \n",
       "95                            NaN          250  \n",
       "96                            NaN          100  \n",
       "96                            NaN          100  \n",
       "97     Tuesday, December 20, 2022          500  \n",
       "100      Friday, December 9, 2022          100  \n",
       "119                           NaN          250  \n",
       "119                           NaN          250  \n",
       "126                           NaN          100  \n",
       "126                           NaN          100  "
      ]
     },
     "execution_count": 76,
     "metadata": {},
     "output_type": "execute_result"
    }
   ],
   "source": [
    "ndf[ndf.isnull().values]"
   ]
  },
  {
   "cell_type": "code",
   "execution_count": 77,
   "metadata": {},
   "outputs": [],
   "source": [
    "# Dropping rows containing NaN values, specifically in the 'Course' column\n",
    "ndf.dropna(subset=['Course'], inplace=True)"
   ]
  },
  {
   "cell_type": "code",
   "execution_count": 78,
   "metadata": {},
   "outputs": [
    {
     "data": {
      "text/html": [
       "<div>\n",
       "<style scoped>\n",
       "    .dataframe tbody tr th:only-of-type {\n",
       "        vertical-align: middle;\n",
       "    }\n",
       "\n",
       "    .dataframe tbody tr th {\n",
       "        vertical-align: top;\n",
       "    }\n",
       "\n",
       "    .dataframe thead th {\n",
       "        text-align: right;\n",
       "    }\n",
       "</style>\n",
       "<table border=\"1\" class=\"dataframe\">\n",
       "  <thead>\n",
       "    <tr style=\"text-align: right;\">\n",
       "      <th></th>\n",
       "      <th>Name</th>\n",
       "      <th>Email</th>\n",
       "      <th>Course</th>\n",
       "      <th>Registration_date</th>\n",
       "      <th>Paid_ammount</th>\n",
       "    </tr>\n",
       "  </thead>\n",
       "  <tbody>\n",
       "  </tbody>\n",
       "</table>\n",
       "</div>"
      ],
      "text/plain": [
       "Empty DataFrame\n",
       "Columns: [Name, Email, Course, Registration_date, Paid_ammount]\n",
       "Index: []"
      ]
     },
     "execution_count": 78,
     "metadata": {},
     "output_type": "execute_result"
    }
   ],
   "source": [
    "ndf[ndf.isnull().values]"
   ]
  },
  {
   "cell_type": "code",
   "execution_count": 79,
   "metadata": {},
   "outputs": [
    {
     "name": "stdout",
     "output_type": "stream",
     "text": [
      "<class 'pandas.core.frame.DataFrame'>\n",
      "Index: 105 entries, 3 to 132\n",
      "Data columns (total 5 columns):\n",
      " #   Column             Non-Null Count  Dtype \n",
      "---  ------             --------------  ----- \n",
      " 0   Name               105 non-null    object\n",
      " 1   Email              105 non-null    object\n",
      " 2   Course             105 non-null    object\n",
      " 3   Registration_date  105 non-null    object\n",
      " 4   Paid_ammount       105 non-null    object\n",
      "dtypes: object(5)\n",
      "memory usage: 4.9+ KB\n"
     ]
    }
   ],
   "source": [
    "ndf.info()"
   ]
  },
  {
   "cell_type": "markdown",
   "metadata": {},
   "source": [
    "### Check whether any duplicates  rows "
   ]
  },
  {
   "cell_type": "code",
   "execution_count": 80,
   "metadata": {},
   "outputs": [
    {
     "data": {
      "text/plain": [
       "0"
      ]
     },
     "execution_count": 80,
     "metadata": {},
     "output_type": "execute_result"
    }
   ],
   "source": [
    "ndf.duplicated().sum() "
   ]
  },
  {
   "cell_type": "code",
   "execution_count": 81,
   "metadata": {},
   "outputs": [
    {
     "name": "stdout",
     "output_type": "stream",
     "text": [
      "The are 12 duplicate  Emails\n"
     ]
    }
   ],
   "source": [
    "nd=ndf.Email.duplicated().sum()\n",
    "str=\"The are {} duplicate  Emails\"\n",
    "print(str.format(nd))"
   ]
  },
  {
   "cell_type": "code",
   "execution_count": 82,
   "metadata": {},
   "outputs": [
    {
     "data": {
      "text/plain": [
       "12"
      ]
     },
     "execution_count": 82,
     "metadata": {},
     "output_type": "execute_result"
    }
   ],
   "source": [
    "ndf.duplicated([\"Email\",\"Course\"]).sum()"
   ]
  },
  {
   "cell_type": "markdown",
   "metadata": {},
   "source": [
    "#### Showing all duplicated values"
   ]
  },
  {
   "cell_type": "code",
   "execution_count": 83,
   "metadata": {
    "scrolled": true
   },
   "outputs": [
    {
     "data": {
      "text/html": [
       "<div>\n",
       "<style scoped>\n",
       "    .dataframe tbody tr th:only-of-type {\n",
       "        vertical-align: middle;\n",
       "    }\n",
       "\n",
       "    .dataframe tbody tr th {\n",
       "        vertical-align: top;\n",
       "    }\n",
       "\n",
       "    .dataframe thead th {\n",
       "        text-align: right;\n",
       "    }\n",
       "</style>\n",
       "<table border=\"1\" class=\"dataframe\">\n",
       "  <thead>\n",
       "    <tr style=\"text-align: right;\">\n",
       "      <th></th>\n",
       "      <th>Name</th>\n",
       "      <th>Email</th>\n",
       "      <th>Course</th>\n",
       "      <th>Registration_date</th>\n",
       "      <th>Paid_ammount</th>\n",
       "    </tr>\n",
       "  </thead>\n",
       "  <tbody>\n",
       "    <tr>\n",
       "      <th>3</th>\n",
       "      <td>Hailey Antcliff</td>\n",
       "      <td>Hailey_Antcliff9757@yahoo.audio</td>\n",
       "      <td>Leadership</td>\n",
       "      <td>Wednesday, December 14, 2022</td>\n",
       "      <td>500</td>\n",
       "    </tr>\n",
       "    <tr>\n",
       "      <th>4</th>\n",
       "      <td>Harvey Reyes</td>\n",
       "      <td>Harvey_Reyes9354@voylg.directory</td>\n",
       "      <td>Analytics</td>\n",
       "      <td>Friday, December 30, 2022</td>\n",
       "      <td>500</td>\n",
       "    </tr>\n",
       "    <tr>\n",
       "      <th>5</th>\n",
       "      <td>Carina Stubbs</td>\n",
       "      <td>Carina_Stubbs8509@jh02o.org</td>\n",
       "      <td>Accounting</td>\n",
       "      <td>Sunday, December 4, 2022</td>\n",
       "      <td>500</td>\n",
       "    </tr>\n",
       "    <tr>\n",
       "      <th>6</th>\n",
       "      <td>Ramon Redden</td>\n",
       "      <td>Ramon_Redden905@1kmd3.club</td>\n",
       "      <td>Design and technology</td>\n",
       "      <td>Wednesday, December 7, 2022</td>\n",
       "      <td>500</td>\n",
       "    </tr>\n",
       "    <tr>\n",
       "      <th>8</th>\n",
       "      <td>Matt Ashley</td>\n",
       "      <td>Matt_Ashley6946@jh02o.info</td>\n",
       "      <td>Analytics</td>\n",
       "      <td>Friday, December 30, 2022</td>\n",
       "      <td>100</td>\n",
       "    </tr>\n",
       "    <tr>\n",
       "      <th>11</th>\n",
       "      <td>Jack Hobbs</td>\n",
       "      <td>Jack_Hobbs4073@evyvh.auction</td>\n",
       "      <td>Design and technology</td>\n",
       "      <td>Wednesday, December 7, 2022</td>\n",
       "      <td>500</td>\n",
       "    </tr>\n",
       "    <tr>\n",
       "      <th>15</th>\n",
       "      <td>Henry Edmonds</td>\n",
       "      <td>Henry_Edmonds4807@dbxli.store</td>\n",
       "      <td>Analytics</td>\n",
       "      <td>Wednesday, December 21, 2022</td>\n",
       "      <td>500</td>\n",
       "    </tr>\n",
       "    <tr>\n",
       "      <th>25</th>\n",
       "      <td>Barney Morris</td>\n",
       "      <td>Barney_Morris5647@hepmv.autos</td>\n",
       "      <td>Analytics</td>\n",
       "      <td>Saturday, December 24, 2022</td>\n",
       "      <td>500</td>\n",
       "    </tr>\n",
       "    <tr>\n",
       "      <th>29</th>\n",
       "      <td>Caydence Fisher</td>\n",
       "      <td>Caydence_Fisher2480@bcfhs.store</td>\n",
       "      <td>Leadership</td>\n",
       "      <td>Wednesday, December 28, 2022</td>\n",
       "      <td>500</td>\n",
       "    </tr>\n",
       "    <tr>\n",
       "      <th>34</th>\n",
       "      <td>Nicole Norton</td>\n",
       "      <td>Nicole_Norton7231@avn7d.zone</td>\n",
       "      <td>Analytics</td>\n",
       "      <td>Friday, December 23, 2022</td>\n",
       "      <td>250</td>\n",
       "    </tr>\n",
       "    <tr>\n",
       "      <th>42</th>\n",
       "      <td>Phoebe Morrison</td>\n",
       "      <td>Phoebe_Morrison8611@xtwt3.store</td>\n",
       "      <td>Design and technology</td>\n",
       "      <td>Tuesday, December 20, 2022</td>\n",
       "      <td>500</td>\n",
       "    </tr>\n",
       "    <tr>\n",
       "      <th>65</th>\n",
       "      <td>Sharon Saunders</td>\n",
       "      <td>Sharon_Saunders5110@nb44i.directory</td>\n",
       "      <td>Leadership</td>\n",
       "      <td>Saturday, December 10, 2022</td>\n",
       "      <td>0</td>\n",
       "    </tr>\n",
       "    <tr>\n",
       "      <th>84</th>\n",
       "      <td>Caydence Fisher</td>\n",
       "      <td>Caydence_Fisher2480@bcfhs.store</td>\n",
       "      <td>Leadership</td>\n",
       "      <td>Wednesday, December 28, 2022</td>\n",
       "      <td>100</td>\n",
       "    </tr>\n",
       "    <tr>\n",
       "      <th>89</th>\n",
       "      <td>Phoebe Morrison</td>\n",
       "      <td>Phoebe_Morrison8611@xtwt3.store</td>\n",
       "      <td>Design and technology</td>\n",
       "      <td>Tuesday, December 20, 2022</td>\n",
       "      <td>0</td>\n",
       "    </tr>\n",
       "    <tr>\n",
       "      <th>98</th>\n",
       "      <td>Jack Hobbs</td>\n",
       "      <td>Jack_Hobbs4073@evyvh.auction</td>\n",
       "      <td>Design and technology</td>\n",
       "      <td>Wednesday, December 7, 2022</td>\n",
       "      <td>0</td>\n",
       "    </tr>\n",
       "    <tr>\n",
       "      <th>107</th>\n",
       "      <td>Barney Morris</td>\n",
       "      <td>Barney_Morris5647@hepmv.autos</td>\n",
       "      <td>Analytics</td>\n",
       "      <td>Saturday, December 24, 2022</td>\n",
       "      <td>0</td>\n",
       "    </tr>\n",
       "    <tr>\n",
       "      <th>110</th>\n",
       "      <td>Henry Edmonds</td>\n",
       "      <td>Henry_Edmonds4807@dbxli.store</td>\n",
       "      <td>Analytics</td>\n",
       "      <td>Wednesday, December 21, 2022</td>\n",
       "      <td>250</td>\n",
       "    </tr>\n",
       "    <tr>\n",
       "      <th>113</th>\n",
       "      <td>Sharon Saunders</td>\n",
       "      <td>Sharon_Saunders5110@nb44i.directory</td>\n",
       "      <td>Leadership</td>\n",
       "      <td>Saturday, December 10, 2022</td>\n",
       "      <td>250</td>\n",
       "    </tr>\n",
       "    <tr>\n",
       "      <th>121</th>\n",
       "      <td>Nicole Norton</td>\n",
       "      <td>Nicole_Norton7231@avn7d.zone</td>\n",
       "      <td>Analytics</td>\n",
       "      <td>Friday, December 23, 2022</td>\n",
       "      <td>100</td>\n",
       "    </tr>\n",
       "    <tr>\n",
       "      <th>122</th>\n",
       "      <td>Hailey Antcliff</td>\n",
       "      <td>Hailey_Antcliff9757@yahoo.audio</td>\n",
       "      <td>Leadership</td>\n",
       "      <td>Wednesday, December 14, 2022</td>\n",
       "      <td>500</td>\n",
       "    </tr>\n",
       "    <tr>\n",
       "      <th>123</th>\n",
       "      <td>Harvey Reyes</td>\n",
       "      <td>Harvey_Reyes9354@voylg.directory</td>\n",
       "      <td>Analytics</td>\n",
       "      <td>Friday, December 30, 2022</td>\n",
       "      <td>250</td>\n",
       "    </tr>\n",
       "    <tr>\n",
       "      <th>124</th>\n",
       "      <td>Carina Stubbs</td>\n",
       "      <td>Carina_Stubbs8509@jh02o.org</td>\n",
       "      <td>Accounting</td>\n",
       "      <td>Sunday, December 4, 2022</td>\n",
       "      <td>250</td>\n",
       "    </tr>\n",
       "    <tr>\n",
       "      <th>125</th>\n",
       "      <td>Ramon Redden</td>\n",
       "      <td>Ramon_Redden905@1kmd3.club</td>\n",
       "      <td>Design and technology</td>\n",
       "      <td>Wednesday, December 7, 2022</td>\n",
       "      <td>250</td>\n",
       "    </tr>\n",
       "    <tr>\n",
       "      <th>127</th>\n",
       "      <td>Matt Ashley</td>\n",
       "      <td>Matt_Ashley6946@jh02o.info</td>\n",
       "      <td>Analytics</td>\n",
       "      <td>Friday, December 30, 2022</td>\n",
       "      <td>100</td>\n",
       "    </tr>\n",
       "  </tbody>\n",
       "</table>\n",
       "</div>"
      ],
      "text/plain": [
       "                 Name                                Email  \\\n",
       "3     Hailey Antcliff      Hailey_Antcliff9757@yahoo.audio   \n",
       "4        Harvey Reyes     Harvey_Reyes9354@voylg.directory   \n",
       "5       Carina Stubbs          Carina_Stubbs8509@jh02o.org   \n",
       "6        Ramon Redden           Ramon_Redden905@1kmd3.club   \n",
       "8         Matt Ashley           Matt_Ashley6946@jh02o.info   \n",
       "11         Jack Hobbs         Jack_Hobbs4073@evyvh.auction   \n",
       "15      Henry Edmonds        Henry_Edmonds4807@dbxli.store   \n",
       "25      Barney Morris        Barney_Morris5647@hepmv.autos   \n",
       "29    Caydence Fisher      Caydence_Fisher2480@bcfhs.store   \n",
       "34      Nicole Norton         Nicole_Norton7231@avn7d.zone   \n",
       "42    Phoebe Morrison      Phoebe_Morrison8611@xtwt3.store   \n",
       "65    Sharon Saunders  Sharon_Saunders5110@nb44i.directory   \n",
       "84    Caydence Fisher      Caydence_Fisher2480@bcfhs.store   \n",
       "89    Phoebe Morrison      Phoebe_Morrison8611@xtwt3.store   \n",
       "98         Jack Hobbs         Jack_Hobbs4073@evyvh.auction   \n",
       "107     Barney Morris        Barney_Morris5647@hepmv.autos   \n",
       "110     Henry Edmonds        Henry_Edmonds4807@dbxli.store   \n",
       "113   Sharon Saunders  Sharon_Saunders5110@nb44i.directory   \n",
       "121     Nicole Norton         Nicole_Norton7231@avn7d.zone   \n",
       "122  Hailey Antcliff       Hailey_Antcliff9757@yahoo.audio   \n",
       "123     Harvey Reyes      Harvey_Reyes9354@voylg.directory   \n",
       "124    Carina Stubbs           Carina_Stubbs8509@jh02o.org   \n",
       "125     Ramon Redden            Ramon_Redden905@1kmd3.club   \n",
       "127      Matt Ashley            Matt_Ashley6946@jh02o.info   \n",
       "\n",
       "                    Course             Registration_date Paid_ammount  \n",
       "3               Leadership  Wednesday, December 14, 2022          500  \n",
       "4                Analytics     Friday, December 30, 2022          500  \n",
       "5               Accounting      Sunday, December 4, 2022          500  \n",
       "6    Design and technology   Wednesday, December 7, 2022          500  \n",
       "8                Analytics     Friday, December 30, 2022          100  \n",
       "11   Design and technology   Wednesday, December 7, 2022          500  \n",
       "15               Analytics  Wednesday, December 21, 2022          500  \n",
       "25               Analytics   Saturday, December 24, 2022          500  \n",
       "29              Leadership  Wednesday, December 28, 2022          500  \n",
       "34               Analytics     Friday, December 23, 2022          250  \n",
       "42   Design and technology    Tuesday, December 20, 2022          500  \n",
       "65              Leadership   Saturday, December 10, 2022            0  \n",
       "84              Leadership  Wednesday, December 28, 2022          100  \n",
       "89   Design and technology    Tuesday, December 20, 2022            0  \n",
       "98   Design and technology   Wednesday, December 7, 2022            0  \n",
       "107              Analytics   Saturday, December 24, 2022            0  \n",
       "110              Analytics  Wednesday, December 21, 2022          250  \n",
       "113             Leadership   Saturday, December 10, 2022          250  \n",
       "121              Analytics     Friday, December 23, 2022          100  \n",
       "122             Leadership  Wednesday, December 14, 2022          500  \n",
       "123              Analytics     Friday, December 30, 2022          250  \n",
       "124             Accounting      Sunday, December 4, 2022          250  \n",
       "125  Design and technology   Wednesday, December 7, 2022          250  \n",
       "127              Analytics     Friday, December 30, 2022          100  "
      ]
     },
     "execution_count": 83,
     "metadata": {},
     "output_type": "execute_result"
    }
   ],
   "source": [
    "ndf[ndf.duplicated([\"Email\",\"Course\"], keep=False)]  # shows all duplicated values "
   ]
  },
  {
   "cell_type": "code",
   "execution_count": 84,
   "metadata": {},
   "outputs": [],
   "source": [
    "# ndf.drop_duplicates([\"Email\",\"Course\")], keep=\"first\",inplace=True) # keeping the starting   duplicates values and remove others duplicated values\n",
    "ndf.drop_duplicates([\"Email\", \"Course\"], keep=\"first\",inplace=True)"
   ]
  },
  {
   "cell_type": "code",
   "execution_count": 85,
   "metadata": {},
   "outputs": [
    {
     "data": {
      "text/html": [
       "<div>\n",
       "<style scoped>\n",
       "    .dataframe tbody tr th:only-of-type {\n",
       "        vertical-align: middle;\n",
       "    }\n",
       "\n",
       "    .dataframe tbody tr th {\n",
       "        vertical-align: top;\n",
       "    }\n",
       "\n",
       "    .dataframe thead th {\n",
       "        text-align: right;\n",
       "    }\n",
       "</style>\n",
       "<table border=\"1\" class=\"dataframe\">\n",
       "  <thead>\n",
       "    <tr style=\"text-align: right;\">\n",
       "      <th></th>\n",
       "      <th>Name</th>\n",
       "      <th>Email</th>\n",
       "      <th>Course</th>\n",
       "      <th>Registration_date</th>\n",
       "      <th>Paid_ammount</th>\n",
       "    </tr>\n",
       "  </thead>\n",
       "  <tbody>\n",
       "  </tbody>\n",
       "</table>\n",
       "</div>"
      ],
      "text/plain": [
       "Empty DataFrame\n",
       "Columns: [Name, Email, Course, Registration_date, Paid_ammount]\n",
       "Index: []"
      ]
     },
     "execution_count": 85,
     "metadata": {},
     "output_type": "execute_result"
    }
   ],
   "source": [
    "ndf[ndf.duplicated([\"Email\",\"Course\"], keep=False)]"
   ]
  },
  {
   "cell_type": "markdown",
   "metadata": {},
   "source": [
    "### Outlook of datasets after some preprossed step"
   ]
  },
  {
   "cell_type": "code",
   "execution_count": 86,
   "metadata": {
    "scrolled": true
   },
   "outputs": [
    {
     "name": "stdout",
     "output_type": "stream",
     "text": [
      "<class 'pandas.core.frame.DataFrame'>\n",
      "Index: 93 entries, 3 to 132\n",
      "Data columns (total 5 columns):\n",
      " #   Column             Non-Null Count  Dtype \n",
      "---  ------             --------------  ----- \n",
      " 0   Name               93 non-null     object\n",
      " 1   Email              93 non-null     object\n",
      " 2   Course             93 non-null     object\n",
      " 3   Registration_date  93 non-null     object\n",
      " 4   Paid_ammount       93 non-null     object\n",
      "dtypes: object(5)\n",
      "memory usage: 4.4+ KB\n"
     ]
    }
   ],
   "source": [
    "ndf.info()"
   ]
  },
  {
   "cell_type": "code",
   "execution_count": 87,
   "metadata": {},
   "outputs": [
    {
     "data": {
      "text/html": [
       "<div>\n",
       "<style scoped>\n",
       "    .dataframe tbody tr th:only-of-type {\n",
       "        vertical-align: middle;\n",
       "    }\n",
       "\n",
       "    .dataframe tbody tr th {\n",
       "        vertical-align: top;\n",
       "    }\n",
       "\n",
       "    .dataframe thead th {\n",
       "        text-align: right;\n",
       "    }\n",
       "</style>\n",
       "<table border=\"1\" class=\"dataframe\">\n",
       "  <thead>\n",
       "    <tr style=\"text-align: right;\">\n",
       "      <th></th>\n",
       "      <th>Name</th>\n",
       "      <th>Email</th>\n",
       "      <th>Course</th>\n",
       "      <th>Registration_date</th>\n",
       "      <th>Paid_ammount</th>\n",
       "    </tr>\n",
       "  </thead>\n",
       "  <tbody>\n",
       "    <tr>\n",
       "      <th>3</th>\n",
       "      <td>Hailey Antcliff</td>\n",
       "      <td>Hailey_Antcliff9757@yahoo.audio</td>\n",
       "      <td>Leadership</td>\n",
       "      <td>Wednesday, December 14, 2022</td>\n",
       "      <td>500</td>\n",
       "    </tr>\n",
       "    <tr>\n",
       "      <th>4</th>\n",
       "      <td>Harvey Reyes</td>\n",
       "      <td>Harvey_Reyes9354@voylg.directory</td>\n",
       "      <td>Analytics</td>\n",
       "      <td>Friday, December 30, 2022</td>\n",
       "      <td>500</td>\n",
       "    </tr>\n",
       "  </tbody>\n",
       "</table>\n",
       "</div>"
      ],
      "text/plain": [
       "              Name                             Email      Course  \\\n",
       "3  Hailey Antcliff   Hailey_Antcliff9757@yahoo.audio  Leadership   \n",
       "4     Harvey Reyes  Harvey_Reyes9354@voylg.directory   Analytics   \n",
       "\n",
       "              Registration_date Paid_ammount  \n",
       "3  Wednesday, December 14, 2022          500  \n",
       "4     Friday, December 30, 2022          500  "
      ]
     },
     "execution_count": 87,
     "metadata": {},
     "output_type": "execute_result"
    }
   ],
   "source": [
    "ndf.head(2)"
   ]
  },
  {
   "cell_type": "markdown",
   "metadata": {},
   "source": [
    "## User defined function for custom preprossing"
   ]
  },
  {
   "cell_type": "markdown",
   "metadata": {},
   "source": [
    "### Date columns formation in the new Format . Wednesday, December 7, 2022\t to Day/Month/Year "
   ]
  },
  {
   "cell_type": "code",
   "execution_count": 116,
   "metadata": {
    "scrolled": true
   },
   "outputs": [],
   "source": [
    "# def date_formation(x):\n",
    "#     try:\n",
    "#         day=((x.split(\",\")[1]).split(\" \"))[2]\n",
    "#         date=day+\"/12/2022\"\n",
    "#     except AttributeError:   \n",
    "#         date=x\n",
    "#     return date\n",
    "\n",
    "\n",
    "# date_format=ndf.Registration_date.map(date_formation)\n",
    "# date_format   # date new format"
   ]
  },
  {
   "cell_type": "markdown",
   "metadata": {},
   "source": [
    "#### spliting only days  name"
   ]
  },
  {
   "cell_type": "code",
   "execution_count": 117,
   "metadata": {},
   "outputs": [],
   "source": [
    "def day_split(x):\n",
    "    try:\n",
    "        day=x.split(\",\")[0]\n",
    "    except AttributeError:   \n",
    "        day=x\n",
    "    return day\n"
   ]
  },
  {
   "cell_type": "markdown",
   "metadata": {},
   "source": [
    "#### Name new formation . keep only first term"
   ]
  },
  {
   "cell_type": "code",
   "execution_count": 109,
   "metadata": {},
   "outputs": [],
   "source": [
    "def name_formation(name):\n",
    "    s_n=name.split(\" \")          # defined a function for formation name . \n",
    "    return s_n[0]+s_n[1][0]  \n",
    "    "
   ]
  },
  {
   "cell_type": "markdown",
   "metadata": {},
   "source": [
    "#### making dataset easier to understand "
   ]
  },
  {
   "cell_type": "code",
   "execution_count": 120,
   "metadata": {},
   "outputs": [],
   "source": [
    "ndf.Day=ndf.Registration_date.map(day_split) # keeping only day \n",
    "ndf.Registration_date=pd.to_datetime(ndf.Registration_date) # parsing dates \n",
    "ndf.Name=ndf.Name.map(name_formation) # keeping only first name\n",
    "fresh_df=ndf.drop(columns=['Email'])  # removing the emails colums "
   ]
  },
  {
   "cell_type": "code",
   "execution_count": 129,
   "metadata": {
    "scrolled": true
   },
   "outputs": [
    {
     "data": {
      "text/html": [
       "<div>\n",
       "<style scoped>\n",
       "    .dataframe tbody tr th:only-of-type {\n",
       "        vertical-align: middle;\n",
       "    }\n",
       "\n",
       "    .dataframe tbody tr th {\n",
       "        vertical-align: top;\n",
       "    }\n",
       "\n",
       "    .dataframe thead th {\n",
       "        text-align: right;\n",
       "    }\n",
       "</style>\n",
       "<table border=\"1\" class=\"dataframe\">\n",
       "  <thead>\n",
       "    <tr style=\"text-align: right;\">\n",
       "      <th></th>\n",
       "      <th>Name</th>\n",
       "      <th>Course</th>\n",
       "      <th>Registration_date</th>\n",
       "      <th>Paid_ammount</th>\n",
       "      <th>Day</th>\n",
       "    </tr>\n",
       "  </thead>\n",
       "  <tbody>\n",
       "    <tr>\n",
       "      <th>0</th>\n",
       "      <td>HaileyA</td>\n",
       "      <td>Leadership</td>\n",
       "      <td>2022-12-14</td>\n",
       "      <td>500</td>\n",
       "      <td>Wednesday</td>\n",
       "    </tr>\n",
       "  </tbody>\n",
       "</table>\n",
       "</div>"
      ],
      "text/plain": [
       "      Name      Course Registration_date Paid_ammount        Day\n",
       "0  HaileyA  Leadership        2022-12-14          500  Wednesday"
      ]
     },
     "execution_count": 129,
     "metadata": {},
     "output_type": "execute_result"
    }
   ],
   "source": [
    "fresh_df.head(1)"
   ]
  },
  {
   "cell_type": "code",
   "execution_count": 150,
   "metadata": {},
   "outputs": [
    {
     "name": "stdout",
     "output_type": "stream",
     "text": [
      "<class 'pandas.core.frame.DataFrame'>\n",
      "RangeIndex: 93 entries, 0 to 92\n",
      "Data columns (total 5 columns):\n",
      " #   Column             Non-Null Count  Dtype         \n",
      "---  ------             --------------  -----         \n",
      " 0   Name               93 non-null     object        \n",
      " 1   Course             93 non-null     object        \n",
      " 2   Registration_date  93 non-null     datetime64[ns]\n",
      " 3   Paid_ammount       93 non-null     object        \n",
      " 4   Day                93 non-null     object        \n",
      "dtypes: datetime64[ns](1), object(4)\n",
      "memory usage: 3.8+ KB\n"
     ]
    }
   ],
   "source": [
    "fresh_df.info()"
   ]
  },
  {
   "cell_type": "code",
   "execution_count": 151,
   "metadata": {},
   "outputs": [],
   "source": [
    "fresh_df['Paid_ammount'] = fresh_df['Paid_ammount'].astype(int)"
   ]
  },
  {
   "cell_type": "code",
   "execution_count": 152,
   "metadata": {},
   "outputs": [
    {
     "name": "stdout",
     "output_type": "stream",
     "text": [
      "<class 'pandas.core.frame.DataFrame'>\n",
      "RangeIndex: 93 entries, 0 to 92\n",
      "Data columns (total 5 columns):\n",
      " #   Column             Non-Null Count  Dtype         \n",
      "---  ------             --------------  -----         \n",
      " 0   Name               93 non-null     object        \n",
      " 1   Course             93 non-null     object        \n",
      " 2   Registration_date  93 non-null     datetime64[ns]\n",
      " 3   Paid_ammount       93 non-null     int32         \n",
      " 4   Day                93 non-null     object        \n",
      "dtypes: datetime64[ns](1), int32(1), object(3)\n",
      "memory usage: 3.4+ KB\n"
     ]
    }
   ],
   "source": [
    "fresh_df.info()"
   ]
  },
  {
   "cell_type": "markdown",
   "metadata": {},
   "source": [
    "<!DOCTYPE html>\n",
    "<html>\n",
    "<head>\n",
    "    <title> </title>\n",
    "</head>\n",
    "<body>\n",
    "    <h1 align=\"center\">Making insight from data</h1>\n",
    "    <ol>\n",
    "        <li>How much revenue has been generated from courses selling .</li>\n",
    "        <li>How many students have enrolled in each course?</li>\n",
    "        <li>What is the total earnings from each course?</li>\n",
    "        <li>On which day of the week has the highest selling ?</li>\n",
    "        <li>On which day of the week is a specific course sold the most?</li>\n",
    "        <li> Whether how many students  have fully or due in specific courses ?</li>\n",
    "        <li> Which day of the week has the highest enrollment for fully paid courses ?</li>\n",
    "        <li> Which day of the week has the highest due sells </li>\n",
    "    </ol>\n",
    "</body>\n",
    "</html>\n"
   ]
  },
  {
   "cell_type": "markdown",
   "metadata": {},
   "source": [
    "#### 1. How much revenue has been generated from courses selling .  "
   ]
  },
  {
   "cell_type": "code",
   "execution_count": 154,
   "metadata": {},
   "outputs": [
    {
     "data": {
      "text/plain": [
       "21400"
      ]
     },
     "execution_count": 154,
     "metadata": {},
     "output_type": "execute_result"
    }
   ],
   "source": [
    "fresh_df.Paid_ammount.sum() # agg([\"min\",\"max\",\"sum\"])"
   ]
  },
  {
   "cell_type": "markdown",
   "metadata": {},
   "source": [
    "#### 2. How many students have enrolled in each course?"
   ]
  },
  {
   "cell_type": "code",
   "execution_count": 155,
   "metadata": {},
   "outputs": [
    {
     "data": {
      "text/plain": [
       "Course\n",
       "Analytics                33\n",
       "Leadership               25\n",
       "Design and technology    20\n",
       "Accounting               15\n",
       "Name: count, dtype: int64"
      ]
     },
     "execution_count": 155,
     "metadata": {},
     "output_type": "execute_result"
    }
   ],
   "source": [
    "fresh_df.Course.value_counts()"
   ]
  },
  {
   "cell_type": "code",
   "execution_count": 219,
   "metadata": {},
   "outputs": [
    {
     "data": {
      "text/plain": [
       "<Axes: xlabel='count', ylabel='Course'>"
      ]
     },
     "execution_count": 219,
     "metadata": {},
     "output_type": "execute_result"
    },
    {
     "data": {
      "image/png": "[encoded data removed]",
      "text/plain": [
       "<Figure size 800x400 with 1 Axes>"
      ]
     },
     "metadata": {},
     "output_type": "display_data"
    }
   ],
   "source": [
    "plt.figure(figsize=(8,4))\n",
    "sns.countplot(y=\"Course\", data=fresh_df, hue=\"Course\", palette=\"Set2\", legend=False)"
   ]
  },
  {
   "cell_type": "markdown",
   "metadata": {},
   "source": [
    "#### 3. What is the total earnings from each course?"
   ]
  },
  {
   "cell_type": "code",
   "execution_count": 180,
   "metadata": {},
   "outputs": [
    {
     "data": {
      "text/plain": [
       "Course\n",
       "Analytics                9900\n",
       "Design and technology    4900\n",
       "Leadership               4400\n",
       "Accounting               2200\n",
       "Name: Paid_ammount, dtype: int32"
      ]
     },
     "execution_count": 180,
     "metadata": {},
     "output_type": "execute_result"
    }
   ],
   "source": [
    "fresh_df.groupby(\"Course\").Paid_ammount.sum().sort_values(ascending=False)"
   ]
  },
  {
   "cell_type": "code",
   "execution_count": 188,
   "metadata": {},
   "outputs": [
    {
     "data": {
      "text/plain": [
       "<Axes: xlabel='Course'>"
      ]
     },
     "execution_count": 188,
     "metadata": {},
     "output_type": "execute_result"
    },
    {
     "data": {
      "image/png": "[encoded data removed]",
      "text/plain": [
       "<Figure size 800x400 with 1 Axes>"
      ]
     },
     "metadata": {},
     "output_type": "display_data"
    }
   ],
   "source": [
    "plt.figure(figsize=(8,4))\n",
    "tk_df=fresh_df.groupby(\"Course\").Paid_ammount.sum()\n",
    "sns.barplot(x=tk_df.index, y=tk_df.values, hue=tk_df.index, palette=\"Set2\")"
   ]
  },
  {
   "cell_type": "markdown",
   "metadata": {},
   "source": [
    "#### 4. On which day of the week has the highest selling ?"
   ]
  },
  {
   "cell_type": "code",
   "execution_count": 190,
   "metadata": {},
   "outputs": [
    {
     "data": {
      "text/plain": [
       "Day\n",
       "Wednesday    4850\n",
       "Friday       3200\n",
       "Thursday     3200\n",
       "Saturday     2800\n",
       "Monday       2750\n",
       "Sunday       2300\n",
       "Tuesday      2300\n",
       "Name: Paid_ammount, dtype: int32"
      ]
     },
     "execution_count": 190,
     "metadata": {},
     "output_type": "execute_result"
    }
   ],
   "source": [
    "fresh_df.groupby(\"Day\").Paid_ammount.sum().sort_values(ascending=False)"
   ]
  },
  {
   "cell_type": "markdown",
   "metadata": {},
   "source": [
    "#### 5. On which day of the week is a specific course sold the most?"
   ]
  },
  {
   "cell_type": "code",
   "execution_count": 196,
   "metadata": {},
   "outputs": [
    {
     "name": "stdout",
     "output_type": "stream",
     "text": [
      "Friday\n",
      "Total enrollment: 16\n",
      ".................\n",
      "Course\n",
      "Analytics                10\n",
      "Accounting                3\n",
      "Leadership                2\n",
      "Design and technology     1\n",
      "Name: count, dtype: int64\n",
      "\n",
      "\n",
      "Monday\n",
      "Total enrollment: 13\n",
      ".................\n",
      "Course\n",
      "Leadership               5\n",
      "Analytics                4\n",
      "Accounting               3\n",
      "Design and technology    1\n",
      "Name: count, dtype: int64\n",
      "\n",
      "\n",
      "Saturday\n",
      "Total enrollment: 13\n",
      ".................\n",
      "Course\n",
      "Analytics                5\n",
      "Leadership               5\n",
      "Accounting               2\n",
      "Design and technology    1\n",
      "Name: count, dtype: int64\n",
      "\n",
      "\n",
      "Sunday\n",
      "Total enrollment: 12\n",
      ".................\n",
      "Course\n",
      "Analytics                5\n",
      "Leadership               3\n",
      "Accounting               2\n",
      "Design and technology    2\n",
      "Name: count, dtype: int64\n",
      "\n",
      "\n",
      "Thursday\n",
      "Total enrollment: 16\n",
      ".................\n",
      "Course\n",
      "Design and technology    6\n",
      "Analytics                4\n",
      "Leadership               4\n",
      "Accounting               2\n",
      "Name: count, dtype: int64\n",
      "\n",
      "\n",
      "Tuesday\n",
      "Total enrollment: 10\n",
      ".................\n",
      "Course\n",
      "Design and technology    5\n",
      "Accounting               2\n",
      "Analytics                2\n",
      "Leadership               1\n",
      "Name: count, dtype: int64\n",
      "\n",
      "\n",
      "Wednesday\n",
      "Total enrollment: 13\n",
      ".................\n",
      "Course\n",
      "Leadership               5\n",
      "Design and technology    4\n",
      "Analytics                3\n",
      "Accounting               1\n",
      "Name: count, dtype: int64\n",
      "\n",
      "\n"
     ]
    }
   ],
   "source": [
    "fresh_df.groupby(\"Day\").Course.value_counts()\n",
    "for x,y in fresh_df.groupby(\"Day\"):\n",
    "    print(x)\n",
    "    print(\"Total enrollment:\",len(y))\n",
    "    print(\".................\")\n",
    "    print(y.Course.value_counts())\n",
    "    print(\"\\n\")"
   ]
  },
  {
   "cell_type": "code",
   "execution_count": 197,
   "metadata": {},
   "outputs": [
    {
     "data": {
      "text/plain": [
       "<Axes: xlabel='Day', ylabel='count'>"
      ]
     },
     "execution_count": 197,
     "metadata": {},
     "output_type": "execute_result"
    },
    {
     "data": {
      "image/png": "[encoded data removed]",
      "text/plain": [
       "<Figure size 1000x500 with 1 Axes>"
      ]
     },
     "metadata": {},
     "output_type": "display_data"
    }
   ],
   "source": [
    "plt.figure(figsize=(10,5))\n",
    "sns.countplot(x=\"Day\",hue=\"Course\",data=fresh_df,palette=\"Set2\")"
   ]
  },
  {
   "cell_type": "markdown",
   "metadata": {},
   "source": [
    "#### 6. Whether how many students  have fully or due in specific courses ?"
   ]
  },
  {
   "cell_type": "code",
   "execution_count": 206,
   "metadata": {},
   "outputs": [
    {
     "name": "stdout",
     "output_type": "stream",
     "text": [
      "Total number of due: 28\n",
      "Course\n",
      "Leadership               10\n",
      "Accounting                8\n",
      "Analytics                 6\n",
      "Design and technology     4\n",
      "Name: count, dtype: int64\n",
      "\n",
      "Total number of fully paid: 65\n",
      "Course\n",
      "Analytics                27\n",
      "Design and technology    16\n",
      "Leadership               15\n",
      "Accounting                7\n",
      "Name: count, dtype: int64\n"
     ]
    }
   ],
   "source": [
    "due_df=fresh_df[fresh_df.Paid_ammount==0]\n",
    "paid_df=fresh_df[fresh_df.Paid_ammount!=0]\n",
    "\n",
    "print(\"Total number of due:\", len(due_df))\n",
    "print(due_df.Course.value_counts())\n",
    "\n",
    "print(\"\\nTotal number of fully paid:\", len(paid_df))\n",
    "print(paid_df.Course.value_counts())\n"
   ]
  },
  {
   "cell_type": "markdown",
   "metadata": {},
   "source": [
    "#### 7. Which day of the week has the highest enrollment for fully paid courses ?"
   ]
  },
  {
   "cell_type": "code",
   "execution_count": 213,
   "metadata": {},
   "outputs": [
    {
     "data": {
      "text/plain": [
       "Day\n",
       "Wednesday    12\n",
       "Thursday     11\n",
       "Friday       10\n",
       "Saturday      9\n",
       "Monday        8\n",
       "Tuesday       8\n",
       "Sunday        7\n",
       "Name: count, dtype: int64"
      ]
     },
     "execution_count": 213,
     "metadata": {},
     "output_type": "execute_result"
    }
   ],
   "source": [
    "paid_df.Day.value_counts()"
   ]
  },
  {
   "cell_type": "code",
   "execution_count": 216,
   "metadata": {},
   "outputs": [
    {
     "data": {
      "text/plain": [
       "<Axes: xlabel='Day', ylabel='count'>"
      ]
     },
     "execution_count": 216,
     "metadata": {},
     "output_type": "execute_result"
    },
    {
     "data": {
      "image/png": "[encoded data removed]",
      "text/plain": [
       "<Figure size 1000x500 with 1 Axes>"
      ]
     },
     "metadata": {},
     "output_type": "display_data"
    }
   ],
   "source": [
    "plt.figure(figsize=(10,5))\n",
    "sns.countplot(x=\"Day\",hue=\"Course\",data=paid_df,palette=\"viridis\")"
   ]
  },
  {
   "cell_type": "markdown",
   "metadata": {},
   "source": [
    "#### 8. Which day of the week has the highest due sells "
   ]
  },
  {
   "cell_type": "code",
   "execution_count": 217,
   "metadata": {},
   "outputs": [
    {
     "data": {
      "text/plain": [
       "Day\n",
       "Friday       6\n",
       "Sunday       5\n",
       "Thursday     5\n",
       "Monday       5\n",
       "Saturday     4\n",
       "Tuesday      2\n",
       "Wednesday    1\n",
       "Name: count, dtype: int64"
      ]
     },
     "execution_count": 217,
     "metadata": {},
     "output_type": "execute_result"
    }
   ],
   "source": [
    "due_df.Day.value_counts()"
   ]
  },
  {
   "cell_type": "code",
   "execution_count": 218,
   "metadata": {},
   "outputs": [
    {
     "data": {
      "text/plain": [
       "<Axes: xlabel='Day', ylabel='count'>"
      ]
     },
     "execution_count": 218,
     "metadata": {},
     "output_type": "execute_result"
    },
    {
     "data": {
      "image/png": "[encoded data removed]",
      "text/plain": [
       "<Figure size 1000x500 with 1 Axes>"
      ]
     },
     "metadata": {},
     "output_type": "display_data"
    }
   ],
   "source": [
    "plt.figure(figsize=(10,5))\n",
    "sns.countplot(x=\"Day\",hue=\"Course\",data=due_df,palette=\"magma\")"
   ]
  }
 ],
 "metadata": {
  "kernelspec": {
   "display_name": "Python 3 (ipykernel)",
   "language": "python",
   "name": "python3"
  },
  "language_info": {
   "codemirror_mode": {
    "name": "ipython",
    "version": 3
   },
   "file_extension": ".py",
   "mimetype": "text/x-python",
   "name": "python",
   "nbconvert_exporter": "python",
   "pygments_lexer": "ipython3",
   "version": "3.12.2"
  }
 },
 "nbformat": 4,
 "nbformat_minor": 4
}
